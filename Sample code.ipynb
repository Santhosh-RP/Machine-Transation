{
 "cells": [
  {
   "cell_type": "markdown",
   "id": "02b5e672",
   "metadata": {},
   "source": [
    "# Using Text Translation Techinque "
   ]
  },
  {
   "cell_type": "raw",
   "id": "27f3ee47",
   "metadata": {},
   "source": [
    "# installing the transalation package\n"
   ]
  },
  {
   "cell_type": "code",
   "execution_count": 5,
   "id": "933214a7",
   "metadata": {},
   "outputs": [
    {
     "name": "stdout",
     "output_type": "stream",
     "text": [
      "Collecting translateNote: you may need to restart the kernel to use updated packages.\n"
     ]
    },
    {
     "name": "stderr",
     "output_type": "stream",
     "text": [
      "WARNING: You are using pip version 22.0.4; however, version 22.3 is available.\n",
      "You should consider upgrading via the 'C:\\Users\\Santhosh\\AppData\\Local\\Programs\\Python\\Python310\\python.exe -m pip install --upgrade pip' command.\n"
     ]
    },
    {
     "name": "stdout",
     "output_type": "stream",
     "text": [
      "\n",
      "  Downloading translate-3.6.1-py2.py3-none-any.whl (12 kB)\n",
      "Requirement already satisfied: click in c:\\users\\santhosh\\appdata\\local\\programs\\python\\python310\\lib\\site-packages (from translate) (8.1.2)\n",
      "Collecting libretranslatepy==2.1.1\n",
      "  Downloading libretranslatepy-2.1.1-py3-none-any.whl (3.2 kB)\n",
      "Collecting lxml\n",
      "  Downloading lxml-4.9.1-cp310-cp310-win_amd64.whl (3.6 MB)\n",
      "     ---------------------------------------- 3.6/3.6 MB 920.2 kB/s eta 0:00:00\n",
      "Requirement already satisfied: requests in c:\\users\\santhosh\\appdata\\local\\programs\\python\\python310\\lib\\site-packages (from translate) (2.27.1)\n",
      "Requirement already satisfied: colorama in c:\\users\\santhosh\\appdata\\local\\programs\\python\\python310\\lib\\site-packages (from click->translate) (0.4.4)\n",
      "Requirement already satisfied: certifi>=2017.4.17 in c:\\users\\santhosh\\appdata\\local\\programs\\python\\python310\\lib\\site-packages (from requests->translate) (2021.10.8)\n",
      "Requirement already satisfied: idna<4,>=2.5 in c:\\users\\santhosh\\appdata\\local\\programs\\python\\python310\\lib\\site-packages (from requests->translate) (3.3)\n",
      "Requirement already satisfied: charset-normalizer~=2.0.0 in c:\\users\\santhosh\\appdata\\local\\programs\\python\\python310\\lib\\site-packages (from requests->translate) (2.0.12)\n",
      "Requirement already satisfied: urllib3<1.27,>=1.21.1 in c:\\users\\santhosh\\appdata\\local\\programs\\python\\python310\\lib\\site-packages (from requests->translate) (1.26.9)\n",
      "Installing collected packages: libretranslatepy, lxml, translate\n",
      "Successfully installed libretranslatepy-2.1.1 lxml-4.9.1 translate-3.6.1\n"
     ]
    }
   ],
   "source": [
    "\n",
    "pip install translate"
   ]
  },
  {
   "cell_type": "markdown",
   "id": "9c884907",
   "metadata": {},
   "source": [
    "''' Text translation from one language to another is increasingly becoming common for various websites as they cater to an international audience. The python package which helps us do this is called translate.\n",
    "\n",
    "This package can be installed by the following way. It provides translation for major languages.'''"
   ]
  },
  {
   "cell_type": "markdown",
   "id": "96fb504d",
   "metadata": {},
   "source": [
    "# Below is an example of translating a simple sentence from English to German. The default from language being English."
   ]
  },
  {
   "cell_type": "code",
   "execution_count": 10,
   "id": "45a74763",
   "metadata": {},
   "outputs": [
    {
     "name": "stdout",
     "output_type": "stream",
     "text": [
      "Guten Morgen!\n"
     ]
    }
   ],
   "source": [
    "from translate import Translator\n",
    "translator= Translator(to_lang=\"German\")\n",
    "translation = translator.translate(\"Good Morning!\")\n",
    "print(translation)"
   ]
  },
  {
   "cell_type": "code",
   "execution_count": null,
   "id": "949c682a",
   "metadata": {},
   "outputs": [],
   "source": []
  }
 ],
 "metadata": {
  "kernelspec": {
   "display_name": "Python 3 (ipykernel)",
   "language": "python",
   "name": "python3"
  },
  "language_info": {
   "codemirror_mode": {
    "name": "ipython",
    "version": 3
   },
   "file_extension": ".py",
   "mimetype": "text/x-python",
   "name": "python",
   "nbconvert_exporter": "python",
   "pygments_lexer": "ipython3",
   "version": "3.10.4"
  }
 },
 "nbformat": 4,
 "nbformat_minor": 5
}
